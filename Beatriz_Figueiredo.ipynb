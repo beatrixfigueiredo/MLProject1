{
 "cells": [
  {
   "cell_type": "markdown",
   "metadata": {},
   "source": [
    "# Project 1 - Human Activity Recognition\n",
    " \n",
    " ##### Project done in the course CM2007 by Beatriz Figueiredo"
   ]
  },
  {
   "cell_type": "markdown",
   "metadata": {},
   "source": [
    "## Import Required Libraries"
   ]
  },
  {
   "cell_type": "code",
   "execution_count": 3,
   "metadata": {},
   "outputs": [],
   "source": [
    "import pandas as pd\n",
    "import numpy as np\n",
    "import matplotlib.pyplot as plt\n",
    "import seaborn as sns\n",
    "from sklearn.model_selection import train_test_split\n",
    "from sklearn.preprocessing import StandardScaler\n",
    "from sklearn.ensemble import RandomForestClassifier\n",
    "from sklearn.metrics import accuracy_score, classification_report"
   ]
  },
  {
   "cell_type": "markdown",
   "metadata": {},
   "source": [
    "## Load MHEALTH Dataset"
   ]
  },
  {
   "cell_type": "code",
   "execution_count": 4,
   "metadata": {},
   "outputs": [],
   "source": [
    "# Data in MHEALTHDATASET downloaded from UCI Machine Learning Repository: \n",
    "# https://archive.ics.uci.edu/dataset/319/mhealth+dataset\n",
    "combined_df = pd.DataFrame()"
   ]
  },
  {
   "cell_type": "code",
   "execution_count": 6,
   "metadata": {},
   "outputs": [],
   "source": [
    "# Loop through and add all 10 subjects' sensor data to dataframe\n",
    "for i in range(1, 11):\n",
    "    df = pd.read_csv(f'MHEALTHDATASET/mHealth_subject{i}.log', header=None, sep='\\t')\n",
    "    # Note: Excluding the ECG data collected with the chest sensor\n",
    "    df = df.loc[:, [0, 1, 2, 5, 6, 7, 8, 9, 10, 11, 12, 13, 14, 15, 16, 17, 18, 19, 20, 21, 22, 23]].rename(columns= {\n",
    "        0: 'acc_ch_x', \n",
    "        1: 'acc_ch_y', \n",
    "        2: 'acc_ch_z', \n",
    "        5: 'acc_la_x', \n",
    "        6: 'acc_la_y', \n",
    "        7: 'acc_la_z', \n",
    "        8: 'gyr_la_x',\n",
    "        9: 'gyr_la_y', \n",
    "        10: 'gyr_la_z', \n",
    "        11: 'mag_la_x', \n",
    "        12: 'mag_la_y', \n",
    "        13: 'mag_la_z', \n",
    "        14: 'acc_rw_x', \n",
    "        15: 'acc_rw_y',\n",
    "        16: 'acc_rw_z', \n",
    "        17: 'gyr_rw_x', \n",
    "        18: 'gyr_rw_y', \n",
    "        19: 'gyr_rw_z', \n",
    "        20: 'mag_rw_x', \n",
    "        21: 'mag_rw_y', \n",
    "        22: 'mag_rw_z',\n",
    "        23: 'activity'\n",
    "    })\n",
    "    df['subject'] = f'subject{i}'\n",
    "    combined_df = pd.concat([combined_df, df])"
   ]
  },
  {
   "cell_type": "code",
   "execution_count": 7,
   "metadata": {},
   "outputs": [],
   "source": [
    "combined_df.to_csv('mhealth_full.csv', index=False)"
   ]
  },
  {
   "cell_type": "code",
   "execution_count": 8,
   "metadata": {},
   "outputs": [],
   "source": [
    "data = pd.read_csv('mhealth_full.csv')"
   ]
  },
  {
   "cell_type": "code",
   "execution_count": 9,
   "metadata": {},
   "outputs": [
    {
     "data": {
      "text/plain": [
       "(1215745, 23)"
      ]
     },
     "execution_count": 9,
     "metadata": {},
     "output_type": "execute_result"
    }
   ],
   "source": [
    "data.shape"
   ]
  },
  {
   "cell_type": "code",
   "execution_count": 10,
   "metadata": {},
   "outputs": [
    {
     "data": {
      "text/html": [
       "<div>\n",
       "<style scoped>\n",
       "    .dataframe tbody tr th:only-of-type {\n",
       "        vertical-align: middle;\n",
       "    }\n",
       "\n",
       "    .dataframe tbody tr th {\n",
       "        vertical-align: top;\n",
       "    }\n",
       "\n",
       "    .dataframe thead th {\n",
       "        text-align: right;\n",
       "    }\n",
       "</style>\n",
       "<table border=\"1\" class=\"dataframe\">\n",
       "  <thead>\n",
       "    <tr style=\"text-align: right;\">\n",
       "      <th></th>\n",
       "      <th>acc_ch_x</th>\n",
       "      <th>acc_ch_y</th>\n",
       "      <th>acc_ch_z</th>\n",
       "      <th>acc_la_x</th>\n",
       "      <th>acc_la_y</th>\n",
       "      <th>acc_la_z</th>\n",
       "      <th>gyr_la_x</th>\n",
       "      <th>gyr_la_y</th>\n",
       "      <th>gyr_la_z</th>\n",
       "      <th>mag_la_x</th>\n",
       "      <th>...</th>\n",
       "      <th>acc_rw_y</th>\n",
       "      <th>acc_rw_z</th>\n",
       "      <th>gyr_rw_x</th>\n",
       "      <th>gyr_rw_y</th>\n",
       "      <th>gyr_rw_z</th>\n",
       "      <th>mag_rw_x</th>\n",
       "      <th>mag_rw_y</th>\n",
       "      <th>mag_rw_z</th>\n",
       "      <th>activity</th>\n",
       "      <th>subject</th>\n",
       "    </tr>\n",
       "  </thead>\n",
       "  <tbody>\n",
       "    <tr>\n",
       "      <th>0</th>\n",
       "      <td>-9.8184</td>\n",
       "      <td>0.009971</td>\n",
       "      <td>0.29563</td>\n",
       "      <td>2.1849</td>\n",
       "      <td>-9.6967</td>\n",
       "      <td>0.63077</td>\n",
       "      <td>0.103900</td>\n",
       "      <td>-0.84053</td>\n",
       "      <td>-0.68762</td>\n",
       "      <td>-0.370000</td>\n",
       "      <td>...</td>\n",
       "      <td>-4.5781</td>\n",
       "      <td>0.187760</td>\n",
       "      <td>-0.44902</td>\n",
       "      <td>-1.0103</td>\n",
       "      <td>0.034483</td>\n",
       "      <td>-2.35000</td>\n",
       "      <td>-1.610200</td>\n",
       "      <td>-0.030899</td>\n",
       "      <td>0</td>\n",
       "      <td>subject1</td>\n",
       "    </tr>\n",
       "    <tr>\n",
       "      <th>1</th>\n",
       "      <td>-9.8489</td>\n",
       "      <td>0.524040</td>\n",
       "      <td>0.37348</td>\n",
       "      <td>2.3876</td>\n",
       "      <td>-9.5080</td>\n",
       "      <td>0.68389</td>\n",
       "      <td>0.085343</td>\n",
       "      <td>-0.83865</td>\n",
       "      <td>-0.68369</td>\n",
       "      <td>-0.197990</td>\n",
       "      <td>...</td>\n",
       "      <td>-4.3198</td>\n",
       "      <td>0.023595</td>\n",
       "      <td>-0.44902</td>\n",
       "      <td>-1.0103</td>\n",
       "      <td>0.034483</td>\n",
       "      <td>-2.16320</td>\n",
       "      <td>-0.882540</td>\n",
       "      <td>0.326570</td>\n",
       "      <td>0</td>\n",
       "      <td>subject1</td>\n",
       "    </tr>\n",
       "    <tr>\n",
       "      <th>2</th>\n",
       "      <td>-9.6602</td>\n",
       "      <td>0.181850</td>\n",
       "      <td>0.43742</td>\n",
       "      <td>2.4086</td>\n",
       "      <td>-9.5674</td>\n",
       "      <td>0.68113</td>\n",
       "      <td>0.085343</td>\n",
       "      <td>-0.83865</td>\n",
       "      <td>-0.68369</td>\n",
       "      <td>-0.374170</td>\n",
       "      <td>...</td>\n",
       "      <td>-4.2772</td>\n",
       "      <td>0.275720</td>\n",
       "      <td>-0.44902</td>\n",
       "      <td>-1.0103</td>\n",
       "      <td>0.034483</td>\n",
       "      <td>-1.61750</td>\n",
       "      <td>-0.165620</td>\n",
       "      <td>-0.030693</td>\n",
       "      <td>0</td>\n",
       "      <td>subject1</td>\n",
       "    </tr>\n",
       "    <tr>\n",
       "      <th>3</th>\n",
       "      <td>-9.6507</td>\n",
       "      <td>0.214220</td>\n",
       "      <td>0.24033</td>\n",
       "      <td>2.1814</td>\n",
       "      <td>-9.4301</td>\n",
       "      <td>0.55031</td>\n",
       "      <td>0.085343</td>\n",
       "      <td>-0.83865</td>\n",
       "      <td>-0.68369</td>\n",
       "      <td>-0.017271</td>\n",
       "      <td>...</td>\n",
       "      <td>-4.3163</td>\n",
       "      <td>0.367520</td>\n",
       "      <td>-0.45686</td>\n",
       "      <td>-1.0082</td>\n",
       "      <td>0.025862</td>\n",
       "      <td>-1.07710</td>\n",
       "      <td>0.006945</td>\n",
       "      <td>-0.382620</td>\n",
       "      <td>0</td>\n",
       "      <td>subject1</td>\n",
       "    </tr>\n",
       "    <tr>\n",
       "      <th>4</th>\n",
       "      <td>-9.7030</td>\n",
       "      <td>0.303890</td>\n",
       "      <td>0.31156</td>\n",
       "      <td>2.4173</td>\n",
       "      <td>-9.3889</td>\n",
       "      <td>0.71098</td>\n",
       "      <td>0.085343</td>\n",
       "      <td>-0.83865</td>\n",
       "      <td>-0.68369</td>\n",
       "      <td>-0.374390</td>\n",
       "      <td>...</td>\n",
       "      <td>-4.1459</td>\n",
       "      <td>0.407290</td>\n",
       "      <td>-0.45686</td>\n",
       "      <td>-1.0082</td>\n",
       "      <td>0.025862</td>\n",
       "      <td>-0.53684</td>\n",
       "      <td>0.175900</td>\n",
       "      <td>-1.095500</td>\n",
       "      <td>0</td>\n",
       "      <td>subject1</td>\n",
       "    </tr>\n",
       "  </tbody>\n",
       "</table>\n",
       "<p>5 rows × 23 columns</p>\n",
       "</div>"
      ],
      "text/plain": [
       "   acc_ch_x  acc_ch_y  acc_ch_z  acc_la_x  acc_la_y  acc_la_z  gyr_la_x  \\\n",
       "0   -9.8184  0.009971   0.29563    2.1849   -9.6967   0.63077  0.103900   \n",
       "1   -9.8489  0.524040   0.37348    2.3876   -9.5080   0.68389  0.085343   \n",
       "2   -9.6602  0.181850   0.43742    2.4086   -9.5674   0.68113  0.085343   \n",
       "3   -9.6507  0.214220   0.24033    2.1814   -9.4301   0.55031  0.085343   \n",
       "4   -9.7030  0.303890   0.31156    2.4173   -9.3889   0.71098  0.085343   \n",
       "\n",
       "   gyr_la_y  gyr_la_z  mag_la_x  ...  acc_rw_y  acc_rw_z  gyr_rw_x  gyr_rw_y  \\\n",
       "0  -0.84053  -0.68762 -0.370000  ...   -4.5781  0.187760  -0.44902   -1.0103   \n",
       "1  -0.83865  -0.68369 -0.197990  ...   -4.3198  0.023595  -0.44902   -1.0103   \n",
       "2  -0.83865  -0.68369 -0.374170  ...   -4.2772  0.275720  -0.44902   -1.0103   \n",
       "3  -0.83865  -0.68369 -0.017271  ...   -4.3163  0.367520  -0.45686   -1.0082   \n",
       "4  -0.83865  -0.68369 -0.374390  ...   -4.1459  0.407290  -0.45686   -1.0082   \n",
       "\n",
       "   gyr_rw_z  mag_rw_x  mag_rw_y  mag_rw_z  activity   subject  \n",
       "0  0.034483  -2.35000 -1.610200 -0.030899         0  subject1  \n",
       "1  0.034483  -2.16320 -0.882540  0.326570         0  subject1  \n",
       "2  0.034483  -1.61750 -0.165620 -0.030693         0  subject1  \n",
       "3  0.025862  -1.07710  0.006945 -0.382620         0  subject1  \n",
       "4  0.025862  -0.53684  0.175900 -1.095500         0  subject1  \n",
       "\n",
       "[5 rows x 23 columns]"
      ]
     },
     "execution_count": 10,
     "metadata": {},
     "output_type": "execute_result"
    }
   ],
   "source": [
    "data.head()"
   ]
  },
  {
   "cell_type": "code",
   "execution_count": 11,
   "metadata": {},
   "outputs": [
    {
     "name": "stdout",
     "output_type": "stream",
     "text": [
      "<class 'pandas.core.frame.DataFrame'>\n",
      "RangeIndex: 1215745 entries, 0 to 1215744\n",
      "Data columns (total 23 columns):\n",
      " #   Column    Non-Null Count    Dtype  \n",
      "---  ------    --------------    -----  \n",
      " 0   acc_ch_x  1215745 non-null  float64\n",
      " 1   acc_ch_y  1215745 non-null  float64\n",
      " 2   acc_ch_z  1215745 non-null  float64\n",
      " 3   acc_la_x  1215745 non-null  float64\n",
      " 4   acc_la_y  1215745 non-null  float64\n",
      " 5   acc_la_z  1215745 non-null  float64\n",
      " 6   gyr_la_x  1215745 non-null  float64\n",
      " 7   gyr_la_y  1215745 non-null  float64\n",
      " 8   gyr_la_z  1215745 non-null  float64\n",
      " 9   mag_la_x  1215745 non-null  float64\n",
      " 10  mag_la_y  1215745 non-null  float64\n",
      " 11  mag_la_z  1215745 non-null  float64\n",
      " 12  acc_rw_x  1215745 non-null  float64\n",
      " 13  acc_rw_y  1215745 non-null  float64\n",
      " 14  acc_rw_z  1215745 non-null  float64\n",
      " 15  gyr_rw_x  1215745 non-null  float64\n",
      " 16  gyr_rw_y  1215745 non-null  float64\n",
      " 17  gyr_rw_z  1215745 non-null  float64\n",
      " 18  mag_rw_x  1215745 non-null  float64\n",
      " 19  mag_rw_y  1215745 non-null  float64\n",
      " 20  mag_rw_z  1215745 non-null  float64\n",
      " 21  activity  1215745 non-null  int64  \n",
      " 22  subject   1215745 non-null  object \n",
      "dtypes: float64(21), int64(1), object(1)\n",
      "memory usage: 213.3+ MB\n"
     ]
    }
   ],
   "source": [
    "data.info()"
   ]
  },
  {
   "cell_type": "markdown",
   "metadata": {},
   "source": [
    "###### No non-null data according to dataframe information. Dataset is in a good state"
   ]
  },
  {
   "cell_type": "markdown",
   "metadata": {},
   "source": [
    "### Basic Data Cleaning"
   ]
  },
  {
   "cell_type": "code",
   "execution_count": 12,
   "metadata": {},
   "outputs": [
    {
     "data": {
      "text/plain": [
       "<Axes: xlabel='subject'>"
      ]
     },
     "execution_count": 12,
     "metadata": {},
     "output_type": "execute_result"
    },
    {
     "data": {
      "image/png": "[encoded data removed]",
      "text/plain": [
       "<Figure size 640x480 with 1 Axes>"
      ]
     },
     "metadata": {},
     "output_type": "display_data"
    }
   ],
   "source": [
    "data.subject.value_counts().plot.bar()"
   ]
  },
  {
   "cell_type": "markdown",
   "metadata": {},
   "source": [
    "###### The number of observations generated by each subject in the experiment seems fairly similar, making resampling potentially unnecessary."
   ]
  },
  {
   "cell_type": "code",
   "execution_count": 13,
   "metadata": {},
   "outputs": [
    {
     "data": {
      "text/plain": [
       "array([ 0,  1,  2,  3,  4,  6,  7,  8,  9, 10, 11, 12,  5])"
      ]
     },
     "execution_count": 13,
     "metadata": {},
     "output_type": "execute_result"
    }
   ],
   "source": [
    "data['activity'].unique()"
   ]
  },
  {
   "cell_type": "code",
   "execution_count": 15,
   "metadata": {},
   "outputs": [
    {
     "data": {
      "text/plain": [
       "<Axes: xlabel='activity'>"
      ]
     },
     "execution_count": 15,
     "metadata": {},
     "output_type": "execute_result"
    },
    {
     "data": {
      "image/png": "[encoded data removed]",
      "text/plain": [
       "<Figure size 640x480 with 1 Axes>"
      ]
     },
     "metadata": {},
     "output_type": "display_data"
    }
   ],
   "source": [
    "data['activity'].value_counts().plot.bar()"
   ]
  },
  {
   "cell_type": "markdown",
   "metadata": {},
   "source": [
    "###### The data appears to be unbalanced in the 0 (null) category. Therefore, we will resample this category to create a more balanced dataset."
   ]
  },
  {
   "cell_type": "code",
   "execution_count": null,
   "metadata": {},
   "outputs": [],
   "source": []
  }
 ],
 "metadata": {
  "kernelspec": {
   "display_name": "mlProject1Python3_12",
   "language": "python",
   "name": "python3"
  },
  "language_info": {
   "codemirror_mode": {
    "name": "ipython",
    "version": 3
   },
   "file_extension": ".py",
   "mimetype": "text/x-python",
   "name": "python",
   "nbconvert_exporter": "python",
   "pygments_lexer": "ipython3",
   "version": "3.12.9"
  },
  "orig_nbformat": 4
 },
 "nbformat": 4,
 "nbformat_minor": 2
}
